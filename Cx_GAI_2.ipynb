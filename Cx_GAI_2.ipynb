{
 "cells": [
  {
   "cell_type": "code",
   "execution_count": 7,
   "id": "2a6db161-3f44-4508-bdd9-e5083c18ccc3",
   "metadata": {},
   "outputs": [],
   "source": [
    "import openai\n",
    "from secret_key import openai_key\n",
    "\n",
    "import os\n",
    "os.environ['OPENAI_API_KEY'] = openai_key"
   ]
  },
  {
   "cell_type": "markdown",
   "id": "fa674782-0916-4015-8040-30d90fde8226",
   "metadata": {},
   "source": [
    "* pip3 install langchain"
   ]
  },
  {
   "cell_type": "code",
   "execution_count": 10,
   "id": "4459a7f5-d13f-4e22-a393-086123ab30ad",
   "metadata": {},
   "outputs": [
    {
     "name": "stdout",
     "output_type": "stream",
     "text": [
      "\n",
      "\n",
      "Rain, pouring down from the sky\n",
      "Falling down from the clouds so high\n",
      "Drowning out the sun's bright light\n",
      "Bringing peace and serenity tonight\n"
     ]
    }
   ],
   "source": [
    "from langchain.llms import OpenAI\n",
    "\n",
    "llm = OpenAI(temperature = 0.6)\n",
    "name = llm(\"Write a 4 line poem on Rain\")\n",
    "print(name)"
   ]
  },
  {
   "cell_type": "code",
   "execution_count": 12,
   "id": "4a473421-7529-45bd-bdb9-55820f76985d",
   "metadata": {},
   "outputs": [],
   "source": [
    "import streamlit as st"
   ]
  },
  {
   "cell_type": "markdown",
   "id": "23a79053-2844-434a-98a7-25a94e4b6f05",
   "metadata": {},
   "source": [
    "* pip3 install streamlit"
   ]
  },
  {
   "cell_type": "code",
   "execution_count": 13,
   "id": "4a75de40-1599-42e0-b9d5-01b19fd60e12",
   "metadata": {},
   "outputs": [
    {
     "name": "stderr",
     "output_type": "stream",
     "text": [
      "2023-08-19 18:53:52.124 \n",
      "  \u001b[33m\u001b[1mWarning:\u001b[0m to view this Streamlit app on a browser, run it with the following\n",
      "  command:\n",
      "\n",
      "    streamlit run /Library/Frameworks/Python.framework/Versions/3.9/lib/python3.9/site-packages/ipykernel_launcher.py [ARGUMENTS]\n"
     ]
    },
    {
     "data": {
      "text/plain": [
       "DeltaGenerator()"
      ]
     },
     "execution_count": 13,
     "metadata": {},
     "output_type": "execute_result"
    }
   ],
   "source": [
    "st.title(\"Langchain & Large Language Model\")"
   ]
  },
  {
   "cell_type": "code",
   "execution_count": null,
   "id": "6b77448e-431e-4553-85ba-c569227ba5a7",
   "metadata": {},
   "outputs": [],
   "source": []
  }
 ],
 "metadata": {
  "kernelspec": {
   "display_name": "Python 3 (ipykernel)",
   "language": "python",
   "name": "python3"
  },
  "language_info": {
   "codemirror_mode": {
    "name": "ipython",
    "version": 3
   },
   "file_extension": ".py",
   "mimetype": "text/x-python",
   "name": "python",
   "nbconvert_exporter": "python",
   "pygments_lexer": "ipython3",
   "version": "3.9.0"
  }
 },
 "nbformat": 4,
 "nbformat_minor": 5
}
